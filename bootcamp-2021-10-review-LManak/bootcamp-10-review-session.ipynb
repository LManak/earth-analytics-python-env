{
 "cells": [
  {
   "cell_type": "markdown",
   "metadata": {
    "deletable": false,
    "editable": false,
    "nbgrader": {
     "cell_type": "markdown",
     "checksum": "a88131b8ae5bfb4f3c6b5ede1eaa81f2",
     "grade": false,
     "grade_id": "overview",
     "locked": true,
     "schema_version": 3,
     "solution": false,
     "task": false
    }
   },
   "source": [
    "# Review Session\n",
    "\n",
    "This is an optional assignment that will be included in your average if it improves your grade."
   ]
  },
  {
   "cell_type": "code",
   "execution_count": 3,
   "metadata": {
    "deletable": false,
    "editable": false,
    "nbgrader": {
     "cell_type": "code",
     "checksum": "8143c1253a9392ac32afd28843d3bfee",
     "grade": false,
     "grade_id": "core-imports",
     "locked": true,
     "schema_version": 3,
     "solution": false,
     "task": false
    }
   },
   "outputs": [],
   "source": [
    "# DO NOT MODIFY THIS CELL\n",
    "# Core imports needed for grading\n",
    "import matplotcheck.notebook as nb\n",
    "from matplotcheck.base import PlotTester\n",
    "import matplotcheck.autograde as ag\n",
    "import matplotlib\n",
    "import numpy as np"
   ]
  },
  {
   "cell_type": "markdown",
   "metadata": {
    "deletable": false,
    "editable": false,
    "nbgrader": {
     "cell_type": "markdown",
     "checksum": "df0b725422d0a15abe425fd8270d432a",
     "grade": false,
     "grade_id": "question-student-imports",
     "locked": true,
     "schema_version": 3,
     "solution": false,
     "task": false
    }
   },
   "source": [
    "## Import packages\n",
    "\n",
    "Import the packages you will need to:\n",
    "* build cross-platform paths\n",
    "* find files using a pattern\n",
    "* download data using earthpy\n",
    "* create plots\n",
    "* work with numpy arrays\n",
    "* work with pandas DataFrames\n",
    "* use the seaborn plot options (use alias sns)\n",
    "\n",
    "**BONUS: set the plot theme to the seaborn default**"
   ]
  },
  {
   "cell_type": "code",
   "execution_count": 6,
   "metadata": {
    "deletable": false,
    "nbgrader": {
     "cell_type": "code",
     "checksum": "20489880accefdb27a2f10ca8cc97835",
     "grade": false,
     "grade_id": "student-imports-answer",
     "locked": false,
     "schema_version": 3,
     "solution": true,
     "task": false
    }
   },
   "outputs": [],
   "source": [
    "import os\n",
    "from glob import glob\n",
    "\n",
    "import earthpy as et\n",
    "import matplotlib.pyplot as plt\n",
    "import numpy as np\n",
    "import pandas as pd\n",
    "import seaborn as sns"
   ]
  },
  {
   "cell_type": "code",
   "execution_count": 7,
   "metadata": {
    "deletable": false,
    "editable": false,
    "nbgrader": {
     "cell_type": "code",
     "checksum": "5283ecc9ad20cfc04f8e2a6e3d504db2",
     "grade": true,
     "grade_id": "student-imports-tests",
     "locked": true,
     "points": 7,
     "schema_version": 3,
     "solution": false,
     "task": false
    }
   },
   "outputs": [
    {
     "name": "stdout",
     "output_type": "stream",
     "text": [
      "✅ Great work! The os module has imported correctly!\n",
      "✅ Great work! The glob module has imported correctly!\n",
      "✅ Great work! The earthpy package has imported correctly!\n",
      "✅ Nice! matplotlib.pyplot has been imported as plt!\n",
      "✅ Score! Numpy has been imported as a np!\n",
      "✅ Score! Pandas has been imported as a pd!\n",
      "✅ Score! Seaborn has been imported as sns!\n",
      "\n",
      " ➡ You received 7 out of 6 points.\n"
     ]
    },
    {
     "data": {
      "text/plain": [
       "7"
      ]
     },
     "execution_count": 7,
     "metadata": {},
     "output_type": "execute_result"
    }
   ],
   "source": [
    "# Test package imports - DO NOT MODIFY THIS CELL!\n",
    "import_answer_points = 0\n",
    "\n",
    "try:\n",
    "    os.getcwd()\n",
    "    print(\"\\u2705 Great work! The os module has imported correctly!\")\n",
    "    import_answer_points += 1\n",
    "except NameError:\n",
    "    print(\"\\u274C Oops make sure that the os package is imported.\")\n",
    "    \n",
    "try:\n",
    "    files = glob('~')\n",
    "    print(\"\\u2705 Great work! The glob module has imported correctly!\")\n",
    "    import_answer_points += 1\n",
    "except NameError:\n",
    "    print(\"\\u274C Oops make sure that the glob package is imported.\")\n",
    "\n",
    "try:\n",
    "    data = et.io\n",
    "    print(\"\\u2705 Great work! The earthpy package has imported correctly!\")\n",
    "    import_answer_points += 1\n",
    "except NameError:\n",
    "    print((\"\\u274C Oops make sure that the earthpy package is imported \"\n",
    "           \"using the alias et.\"))\n",
    "\n",
    "try:\n",
    "    plt.show()\n",
    "    print(\"\\u2705 Nice! matplotlib.pyplot has been imported as plt!\")\n",
    "    import_answer_points += 1\n",
    "except NameError:\n",
    "    print((\"matplotlib.pyplot has not been imported as plt, \"\n",
    "           \"please make sure to import is properly.\"))\n",
    "    \n",
    "try:\n",
    "    np.nan\n",
    "    print(\"\\u2705 Score! Numpy has been imported as a np!\")\n",
    "    import_answer_points += 1\n",
    "except NameError:\n",
    "    print((\"\\u274C Numpy has not been imported as a np, \"\n",
    "           \"please make sure to import is properly.\"))\n",
    "\n",
    "try:\n",
    "    no_data = pd.NA\n",
    "    print(\"\\u2705 Score! Pandas has been imported as a pd!\")\n",
    "    import_answer_points += 1\n",
    "except NameError:\n",
    "    print((\"\\u274C Pandas has not been imported as a pd, \"\n",
    "           \"please make sure to import is properly.\"))\n",
    "\n",
    "try:\n",
    "    sns.set_theme()\n",
    "    print(\"\\u2705 Score! Seaborn has been imported as sns!\")\n",
    "    import_answer_points += 1\n",
    "except NameError:\n",
    "    print((\"\\u274C Seaborn has not been imported as sns, \"\n",
    "           \"please make sure to import is properly.\"))\n",
    "    \n",
    "print(\"\\n \\u27A1 You received {} out of 6 points.\".format(\n",
    "    import_answer_points))\n",
    "\n",
    "import_answer_points"
   ]
  },
  {
   "cell_type": "markdown",
   "metadata": {
    "deletable": false,
    "editable": false,
    "nbgrader": {
     "cell_type": "markdown",
     "checksum": "89782ad4037af7d9e04f2f56b40f169a",
     "grade": false,
     "grade_id": "question-student-download",
     "locked": true,
     "schema_version": 3,
     "solution": false,
     "task": false
    }
   },
   "source": [
    "## Set up data directory and path and download ca-fires-yearly dataset\n",
    "\n",
    "We are using the ca-fires-yearly data for this set of exercises. Below, get set up to use this dataset by:\n",
    "* Creating the earth-analtics/data directory if it does not exist\n",
    "* Setting the data directory as the working directory\n",
    "* Downloading the ca-fires-yearly data\n",
    "\n",
    "Download url: https://ndownloader.figshare.com/files/25033508"
   ]
  },
  {
   "cell_type": "code",
   "execution_count": 11,
   "metadata": {
    "deletable": false,
    "nbgrader": {
     "cell_type": "code",
     "checksum": "ba715efad79cf0d0d5a67aad32ab4d05",
     "grade": false,
     "grade_id": "student-download-answer",
     "locked": false,
     "schema_version": 3,
     "solution": true,
     "task": false
    }
   },
   "outputs": [
    {
     "name": "stdout",
     "output_type": "stream",
     "text": [
      "/Users/leahmanak/earth-analytics/data exists\n"
     ]
    },
    {
     "data": {
      "text/plain": [
       "'/Users/leahmanak/earth-analytics/data/earthpy-downloads/ca-fires-yearly'"
      ]
     },
     "execution_count": 11,
     "metadata": {},
     "output_type": "execute_result"
    }
   ],
   "source": [
    "eadata_path = os.path.join(et.io.HOME,\n",
    "                          'earth-analytics',\n",
    "                           'data')\n",
    "#eadata_path\n",
    "\n",
    "#Creating the earth-analtics/data directory if it does not exist\n",
    "if not os.path.exists(eadata_path):\n",
    "    print('{} does not exist - creating'.format(eadata_path))\n",
    "    os.makedirs(eadata_path)\n",
    "else:\n",
    "    print('{} exists'.format(eadata_path))\n",
    "    \n",
    "#set as working directory\n",
    "os.chdir(eadata_path)\n",
    "\n",
    "#Downloading the ca-fires-yearly data\n",
    "ca_fires_url = 'https://ndownloader.figshare.com/files/25033508'\n",
    "et.data.get_data(url=ca_fires_url)\n"
   ]
  },
  {
   "cell_type": "code",
   "execution_count": 12,
   "metadata": {
    "deletable": false,
    "editable": false,
    "nbgrader": {
     "cell_type": "code",
     "checksum": "392f008fc8f86811b9757812fc4f0a22",
     "grade": true,
     "grade_id": "student-working-dir-tests",
     "locked": true,
     "points": 5,
     "schema_version": 3,
     "solution": false,
     "task": false
    }
   },
   "outputs": [
    {
     "name": "stdout",
     "output_type": "stream",
     "text": [
      "✅ Great - it looks like your working directory is set correctly to .../earth-analytics/data\n",
      "✅ Great - it looks like you successfully downloaded the ca-fires-yearly dataset to .../earthpy-downloads/ca-fires-yearly\n",
      "\n",
      " ➡ You received 5 out of 5 points for setting your working directory.\n"
     ]
    },
    {
     "data": {
      "text/plain": [
       "5"
      ]
     },
     "execution_count": 12,
     "metadata": {},
     "output_type": "execute_result"
    }
   ],
   "source": [
    "# DO NOT MODIFY THIS CELL\n",
    "\n",
    "# Tests that the working directory is set to earth-analytics/data\n",
    "# And that the data download directory exists\n",
    "\n",
    "path = os.path.normpath(os.getcwd())\n",
    "student_wd_parts = path.split(os.sep)\n",
    "\n",
    "wd_points = 0\n",
    "\n",
    "if student_wd_parts[-2:] == ['earth-analytics', 'data']:\n",
    "    print((\"\\u2705 Great - it looks like your working directory is set \"\n",
    "           \"correctly to .../earth-analytics/data\"))\n",
    "    wd_points += 3\n",
    "else:\n",
    "    print((\"\\u274C Oops, the autograder will not run unless your working \"\n",
    "           \"directory is set to earth-analytics/data\"))\n",
    "\n",
    "# Tests that California Fires Dataset is downloaded\n",
    "ca_fires_yearly_path = os.path.join(\n",
    "    \"earthpy-downloads\", \n",
    "    \"ca-fires-yearly\")\n",
    "\n",
    "if os.path.exists(ca_fires_yearly_path):\n",
    "    print((\"\\u2705 Great - it looks like you successfully downloaded the \"\n",
    "           \"ca-fires-yearly dataset to .../earthpy-downloads/ca-fires-yearly\"))\n",
    "    wd_points += 2\n",
    "else:\n",
    "    print((\"\\u274C Oops, you still need to download the ca-fires-yearly data\"))\n",
    "    \n",
    "print((\"\\n \\u27A1 You received {} out of 5 points for setting your working \"\n",
    "       \"directory.\").format(wd_points))\n",
    "\n",
    "wd_points"
   ]
  },
  {
   "cell_type": "code",
   "execution_count": null,
   "metadata": {
    "deletable": false,
    "nbgrader": {
     "cell_type": "code",
     "checksum": "f8ea381fa37770d639c8478b0dcf3c22",
     "grade": true,
     "grade_id": "student-working-dir-test-manual",
     "locked": false,
     "points": 2,
     "schema_version": 3,
     "solution": true,
     "task": false
    }
   },
   "outputs": [],
   "source": [
    "# YOUR CODE HERE\n",
    "raise NotImplementedError()"
   ]
  },
  {
   "cell_type": "markdown",
   "metadata": {
    "deletable": false,
    "editable": false,
    "nbgrader": {
     "cell_type": "markdown",
     "checksum": "a26fafd5534f60d6e838b362b7568d4c",
     "grade": false,
     "grade_id": "student-numfires-question",
     "locked": true,
     "schema_version": 3,
     "solution": false,
     "task": false
    }
   },
   "source": [
    "## Challenge 1: Calculate the number of fires between 1992-2015 greater than 100 acres\n",
    "\n",
    "Simple loop: go through files in the 1992-2015-gt-100-acres directory in your CA yearly fires directory and calculate the number of total fires by adding up the number of fires (rows) in each file\n",
    "\n",
    "If you are going to calculate a value in a loop - remember to set up a variable and initialize it.\n",
    "\n",
    "**Call your variable with the number of total fires at the end of the cell**"
   ]
  },
  {
   "cell_type": "code",
   "execution_count": 90,
   "metadata": {
    "deletable": false,
    "nbgrader": {
     "cell_type": "code",
     "checksum": "4818048964b42d05cb7718dc49cf4b69",
     "grade": false,
     "grade_id": "student-numfires-answer",
     "locked": false,
     "schema_version": 3,
     "solution": true,
     "task": false
    }
   },
   "outputs": [
    {
     "name": "stdout",
     "output_type": "stream",
     "text": [
      "True\n",
      "['.DS_Store', 'earthpy-downloads', 'spatial-vector-lidar', 'colorado-flood']\n"
     ]
    },
    {
     "data": {
      "text/plain": [
       "4101"
      ]
     },
     "execution_count": 90,
     "metadata": {},
     "output_type": "execute_result"
    }
   ],
   "source": [
    "# define a data path\n",
    "fire_92_15_path = os.path.join(\n",
    "    'earthpy-downloads',\n",
    "    'ca-fires-yearly',\n",
    "    '1992-2015-gt-100-acres')\n",
    "print(os.path.exists(fire_92_15_path))\n",
    "print(os.listdir('.'))\n",
    "\n",
    "# get a list of files\n",
    "fire_92_15_files = glob(os.path.join(fire_92_15_path, '*.csv'))\n",
    "#print(fire_92_15_files)\n",
    "\n",
    "# set up a variale and initialize it\n",
    "total_92_15_fires = 0\n",
    " \n",
    "# go through files in directory \n",
    "for file in fire_92_15_files: \n",
    "  # add total number of fires \n",
    "    df = pd.read_csv(file)\n",
    "    total_92_15_fires += len(df)\n",
    "    \n",
    "#call your varible with the num. of total fires\n",
    "total_92_15_fires"
   ]
  },
  {
   "cell_type": "code",
   "execution_count": 91,
   "metadata": {
    "deletable": false,
    "editable": false,
    "nbgrader": {
     "cell_type": "code",
     "checksum": "832ff26427c534089d145a9796e14513",
     "grade": true,
     "grade_id": "student-numfires-test",
     "locked": true,
     "points": 0,
     "schema_version": 3,
     "solution": false,
     "task": false
    }
   },
   "outputs": [
    {
     "name": "stdout",
     "output_type": "stream",
     "text": [
      "✅ Result is an integer, good job!\n"
     ]
    }
   ],
   "source": [
    "# DO NOT MODIFY THIS CELL\n",
    "# Testing to see if the number of fires is an integer\n",
    "\n",
    "student_num_fires = _\n",
    "\n",
    "if isinstance(student_num_fires, int):\n",
    "    print(\"\\u2705 Result is an integer, good job!\")\n",
    "else:\n",
    "    print(\"\\u274C Result should be an integer.\")"
   ]
  },
  {
   "cell_type": "code",
   "execution_count": null,
   "metadata": {
    "deletable": false,
    "editable": false,
    "nbgrader": {
     "cell_type": "code",
     "checksum": "2de8e04af4558e2294124c4f16f36d19",
     "grade": true,
     "grade_id": "student-numfires-test-hidden",
     "locked": true,
     "points": 5,
     "schema_version": 3,
     "solution": false,
     "task": false
    }
   },
   "outputs": [],
   "source": [
    "# DO NOT MODIFY THIS CELL"
   ]
  },
  {
   "cell_type": "markdown",
   "metadata": {
    "deletable": false,
    "editable": false,
    "nbgrader": {
     "cell_type": "markdown",
     "checksum": "23014babad867f393a428c05e81b5e81",
     "grade": false,
     "grade_id": "student-concat-question",
     "locked": true,
     "schema_version": 3,
     "solution": false,
     "task": false
    }
   },
   "source": [
    "## Challenge 2:  Concatenate annual files into single dataframe\n",
    "\n",
    "Process a series of dataframes and extract the year value from the file name, storing as an **integer column** in the dataframe. **Set the DataFrame Index as the fire unique id (fd_unq_id), and sort by the index.**"
   ]
  },
  {
   "cell_type": "code",
   "execution_count": 215,
   "metadata": {
    "deletable": false,
    "nbgrader": {
     "cell_type": "code",
     "checksum": "ecf58e0bf06a1071780bcd67d772cff8",
     "grade": false,
     "grade_id": "student-concat-answer",
     "locked": false,
     "schema_version": 3,
     "solution": true,
     "task": false
    }
   },
   "outputs": [
    {
     "data": {
      "text/html": [
       "<div>\n",
       "<style scoped>\n",
       "    .dataframe tbody tr th:only-of-type {\n",
       "        vertical-align: middle;\n",
       "    }\n",
       "\n",
       "    .dataframe tbody tr th {\n",
       "        vertical-align: top;\n",
       "    }\n",
       "\n",
       "    .dataframe thead th {\n",
       "        text-align: right;\n",
       "    }\n",
       "</style>\n",
       "<table border=\"1\" class=\"dataframe\">\n",
       "  <thead>\n",
       "    <tr style=\"text-align: right;\">\n",
       "      <th></th>\n",
       "      <th>source_reporting_unit_name</th>\n",
       "      <th>fire_name</th>\n",
       "      <th>month</th>\n",
       "      <th>month_num</th>\n",
       "      <th>cause</th>\n",
       "      <th>fire_size</th>\n",
       "      <th>fire_size_class</th>\n",
       "      <th>state</th>\n",
       "      <th>county</th>\n",
       "      <th>year</th>\n",
       "    </tr>\n",
       "    <tr>\n",
       "      <th>fd_unq_id</th>\n",
       "      <th></th>\n",
       "      <th></th>\n",
       "      <th></th>\n",
       "      <th></th>\n",
       "      <th></th>\n",
       "      <th></th>\n",
       "      <th></th>\n",
       "      <th></th>\n",
       "      <th></th>\n",
       "      <th></th>\n",
       "    </tr>\n",
       "  </thead>\n",
       "  <tbody>\n",
       "    <tr>\n",
       "      <th>17</th>\n",
       "      <td>Eldorado National Forest</td>\n",
       "      <td>POWER</td>\n",
       "      <td>October</td>\n",
       "      <td>10</td>\n",
       "      <td>Equipment Use</td>\n",
       "      <td>16823.0</td>\n",
       "      <td>G</td>\n",
       "      <td>CA</td>\n",
       "      <td>Amador</td>\n",
       "      <td>2004</td>\n",
       "    </tr>\n",
       "    <tr>\n",
       "      <th>18</th>\n",
       "      <td>Eldorado National Forest</td>\n",
       "      <td>FREDS</td>\n",
       "      <td>October</td>\n",
       "      <td>10</td>\n",
       "      <td>Equipment Use</td>\n",
       "      <td>7700.0</td>\n",
       "      <td>G</td>\n",
       "      <td>CA</td>\n",
       "      <td>El Dorado</td>\n",
       "      <td>2004</td>\n",
       "    </tr>\n",
       "    <tr>\n",
       "      <th>556</th>\n",
       "      <td>Sequoia National Forest</td>\n",
       "      <td>NINE</td>\n",
       "      <td>July</td>\n",
       "      <td>7</td>\n",
       "      <td>Miscellaneous</td>\n",
       "      <td>1149.0</td>\n",
       "      <td>F</td>\n",
       "      <td>CA</td>\n",
       "      <td>NaN</td>\n",
       "      <td>2005</td>\n",
       "    </tr>\n",
       "    <tr>\n",
       "      <th>1514</th>\n",
       "      <td>Cleveland National Forest</td>\n",
       "      <td>BARRETT</td>\n",
       "      <td>August</td>\n",
       "      <td>8</td>\n",
       "      <td>Campfire</td>\n",
       "      <td>124.0</td>\n",
       "      <td>D</td>\n",
       "      <td>CA</td>\n",
       "      <td>NaN</td>\n",
       "      <td>2005</td>\n",
       "    </tr>\n",
       "    <tr>\n",
       "      <th>2740</th>\n",
       "      <td>Mendocino National Forest</td>\n",
       "      <td>CLOVER</td>\n",
       "      <td>September</td>\n",
       "      <td>9</td>\n",
       "      <td>Miscellaneous</td>\n",
       "      <td>775.0</td>\n",
       "      <td>E</td>\n",
       "      <td>CA</td>\n",
       "      <td>NaN</td>\n",
       "      <td>2005</td>\n",
       "    </tr>\n",
       "    <tr>\n",
       "      <th>...</th>\n",
       "      <td>...</td>\n",
       "      <td>...</td>\n",
       "      <td>...</td>\n",
       "      <td>...</td>\n",
       "      <td>...</td>\n",
       "      <td>...</td>\n",
       "      <td>...</td>\n",
       "      <td>...</td>\n",
       "      <td>...</td>\n",
       "      <td>...</td>\n",
       "    </tr>\n",
       "    <tr>\n",
       "      <th>300345098</th>\n",
       "      <td>Santa Clara Unit</td>\n",
       "      <td>EAGLE</td>\n",
       "      <td>August</td>\n",
       "      <td>8</td>\n",
       "      <td>Miscellaneous</td>\n",
       "      <td>157.0</td>\n",
       "      <td>D</td>\n",
       "      <td>CA</td>\n",
       "      <td>NaN</td>\n",
       "      <td>2013</td>\n",
       "    </tr>\n",
       "    <tr>\n",
       "      <th>300345499</th>\n",
       "      <td>CDF - Merced-Mariposa Unit</td>\n",
       "      <td>RED</td>\n",
       "      <td>June</td>\n",
       "      <td>6</td>\n",
       "      <td>Debris Burning</td>\n",
       "      <td>134.0</td>\n",
       "      <td>D</td>\n",
       "      <td>CA</td>\n",
       "      <td>NaN</td>\n",
       "      <td>2015</td>\n",
       "    </tr>\n",
       "    <tr>\n",
       "      <th>300346248</th>\n",
       "      <td>Lassen-Modoc Unit</td>\n",
       "      <td>POPCORN</td>\n",
       "      <td>June</td>\n",
       "      <td>6</td>\n",
       "      <td>Lightning</td>\n",
       "      <td>3000.0</td>\n",
       "      <td>F</td>\n",
       "      <td>CA</td>\n",
       "      <td>NaN</td>\n",
       "      <td>2008</td>\n",
       "    </tr>\n",
       "    <tr>\n",
       "      <th>300347461</th>\n",
       "      <td>CDF - Merced-Mariposa Unit</td>\n",
       "      <td>VALLEY</td>\n",
       "      <td>June</td>\n",
       "      <td>6</td>\n",
       "      <td>Equipment Use</td>\n",
       "      <td>480.0</td>\n",
       "      <td>E</td>\n",
       "      <td>CA</td>\n",
       "      <td>NaN</td>\n",
       "      <td>2014</td>\n",
       "    </tr>\n",
       "    <tr>\n",
       "      <th>300347643</th>\n",
       "      <td>Santa Clara Unit</td>\n",
       "      <td>CURIE</td>\n",
       "      <td>June</td>\n",
       "      <td>6</td>\n",
       "      <td>Children</td>\n",
       "      <td>150.0</td>\n",
       "      <td>D</td>\n",
       "      <td>CA</td>\n",
       "      <td>NaN</td>\n",
       "      <td>2014</td>\n",
       "    </tr>\n",
       "  </tbody>\n",
       "</table>\n",
       "<p>4101 rows × 10 columns</p>\n",
       "</div>"
      ],
      "text/plain": [
       "           source_reporting_unit_name fire_name      month  month_num  \\\n",
       "fd_unq_id                                                               \n",
       "17           Eldorado National Forest     POWER    October         10   \n",
       "18           Eldorado National Forest     FREDS    October         10   \n",
       "556           Sequoia National Forest      NINE       July          7   \n",
       "1514        Cleveland National Forest   BARRETT     August          8   \n",
       "2740        Mendocino National Forest    CLOVER  September          9   \n",
       "...                               ...       ...        ...        ...   \n",
       "300345098            Santa Clara Unit     EAGLE     August          8   \n",
       "300345499  CDF - Merced-Mariposa Unit       RED       June          6   \n",
       "300346248           Lassen-Modoc Unit   POPCORN       June          6   \n",
       "300347461  CDF - Merced-Mariposa Unit    VALLEY       June          6   \n",
       "300347643            Santa Clara Unit     CURIE       June          6   \n",
       "\n",
       "                    cause  fire_size fire_size_class state     county  year  \n",
       "fd_unq_id                                                                    \n",
       "17          Equipment Use    16823.0               G    CA     Amador  2004  \n",
       "18          Equipment Use     7700.0               G    CA  El Dorado  2004  \n",
       "556         Miscellaneous     1149.0               F    CA        NaN  2005  \n",
       "1514             Campfire      124.0               D    CA        NaN  2005  \n",
       "2740        Miscellaneous      775.0               E    CA        NaN  2005  \n",
       "...                   ...        ...             ...   ...        ...   ...  \n",
       "300345098   Miscellaneous      157.0               D    CA        NaN  2013  \n",
       "300345499  Debris Burning      134.0               D    CA        NaN  2015  \n",
       "300346248       Lightning     3000.0               F    CA        NaN  2008  \n",
       "300347461   Equipment Use      480.0               E    CA        NaN  2014  \n",
       "300347643        Children      150.0               D    CA        NaN  2014  \n",
       "\n",
       "[4101 rows x 10 columns]"
      ]
     },
     "execution_count": 215,
     "metadata": {},
     "output_type": "execute_result"
    }
   ],
   "source": [
    "# process Data Frames\n",
    "fire_years_df = []\n",
    "year = []\n",
    "\n",
    "# extract the year from the file name/ store as an integer column\n",
    "for i in glob(os.path.join(fire_92_15_path, \"*.csv\")):\n",
    "    df = pd.read_csv(i, index_col=None, header=0)\n",
    "    df['year']= i[-8:-4]\n",
    "    df['year'] = df['year'].astype(int)\n",
    "    fire_years_df.append(df)\n",
    "    ca_fire_df = pd.concat(fire_years_df, axis=0)\n",
    "    \n",
    "\n",
    "\n",
    "# set the DataFrame Index as the fire unique id (fd_unq_id)   \n",
    "ca_fire_df.set_index('fd_unq_id', inplace=True)\n",
    "\n",
    "# sort by index\n",
    "ca_fire_df.sort_index()\n",
    "\n",
    "\n",
    "#ca_fire_df.info()\n",
    "\n"
   ]
  },
  {
   "cell_type": "code",
   "execution_count": 216,
   "metadata": {
    "deletable": false,
    "editable": false,
    "nbgrader": {
     "cell_type": "code",
     "checksum": "2c0e3938f0074262817f09510050253c",
     "grade": true,
     "grade_id": "student-concat-test",
     "locked": true,
     "points": 0,
     "schema_version": 3,
     "solution": false,
     "task": false
    }
   },
   "outputs": [
    {
     "name": "stdout",
     "output_type": "stream",
     "text": [
      "✅ Object created is a dataframe, good job!\n",
      "✅ Successfully read in the fire id column as the index!\n",
      "✅ Successfully created an integer year column!\n"
     ]
    }
   ],
   "source": [
    "# DO NOT MODIFY THIS CELL\n",
    "# Testing to make sure the result is a dataframe\n",
    "# With the fire id as the index\n",
    "# And an integer year column\n",
    "\n",
    "student_dataframe_all_fires = _\n",
    "\n",
    "\n",
    "if isinstance(student_dataframe_all_fires, pd.DataFrame):\n",
    "    print(\"\\u2705 Object created is a dataframe, good job!\")\n",
    "else:\n",
    "    print(\"\\u274C Object created is not a dataframe.\")\n",
    "\n",
    "if student_dataframe_all_fires.index.name == 'fd_unq_id':\n",
    "    print(\"\\u2705 Successfully read in the fire id column as the index!\")\n",
    "else:\n",
    "    print(\"\\u274C The index is not set to the fire id column.\")\n",
    "    \n",
    "if pd.api.types.is_integer_dtype(student_dataframe_all_fires.year):\n",
    "    print(\"\\u2705 Successfully created an integer year column!\")\n",
    "else:\n",
    "    print(\"\\u274C The year is not an integer column\")"
   ]
  },
  {
   "cell_type": "code",
   "execution_count": 217,
   "metadata": {
    "deletable": false,
    "editable": false,
    "nbgrader": {
     "cell_type": "code",
     "checksum": "77109ee2cc750365909c93ab49cd2f7d",
     "grade": true,
     "grade_id": "student-concat-test-hidden",
     "locked": true,
     "points": 10,
     "schema_version": 3,
     "solution": false,
     "task": false
    }
   },
   "outputs": [],
   "source": [
    "# DO NOT MODIFY THIS CELL"
   ]
  },
  {
   "cell_type": "markdown",
   "metadata": {
    "deletable": false,
    "editable": false,
    "nbgrader": {
     "cell_type": "markdown",
     "checksum": "3d518af014be8ea44f6b6fc8d1ee0df4",
     "grade": false,
     "grade_id": "student-index-question",
     "locked": true,
     "points": 0,
     "schema_version": 3,
     "solution": false,
     "task": true
    }
   },
   "source": [
    "In the cell below, answer the following in a **numbered list**:\n",
    "1. What are the advantages of using the unique id as an index instead of the year as you did in previous assignments?\n",
    "2. What are the advantages of using sorted year as the index?"
   ]
  },
  {
   "cell_type": "markdown",
   "metadata": {
    "deletable": false,
    "nbgrader": {
     "cell_type": "markdown",
     "checksum": "9f4bba69a44ebe37b87d834d3a27b4b6",
     "grade": true,
     "grade_id": "student-index-answer",
     "locked": false,
     "points": 6,
     "schema_version": 3,
     "solution": true,
     "task": false
    }
   },
   "source": [
    "1. Using a unique I.D as the index might be more advantageous vs. using the year in that there are multiple fires that occured each year, and by doing it this way we are creating this dataframe to be more versitile and specific in respect to each unique fire. \n",
    "2. By using the sorted year as the index, it is easier to create time-sensitive figures. This could be useful if you are trying to see your data in respect to the year that the fires occured. "
   ]
  },
  {
   "cell_type": "code",
   "execution_count": null,
   "metadata": {},
   "outputs": [],
   "source": []
  },
  {
   "cell_type": "markdown",
   "metadata": {
    "deletable": false,
    "editable": false,
    "nbgrader": {
     "cell_type": "markdown",
     "checksum": "3820fe8ca3ab9a0f29069bcc48c65fb5",
     "grade": false,
     "grade_id": "student-group-question",
     "locked": true,
     "schema_version": 3,
     "solution": false,
     "task": false
    }
   },
   "source": [
    "## Challenge 3: Group and aggregate\n",
    "\n",
    "Use the pandas DataFrame method `.groupby` to take the **yearly maximum** and **monthly mean** fire size, and then call both dataframes, e.g.:\n",
    "\n",
    "max_fire_size_yearly_df, mean_fire_size_monthly_df\n",
    "\n",
    "**Use the month_num column to take the monthly mean so that the DataFrame will be in the right order**"
   ]
  },
  {
   "cell_type": "code",
   "execution_count": 218,
   "metadata": {
    "deletable": false,
    "nbgrader": {
     "cell_type": "code",
     "checksum": "89bd7c533a19219f58a19ff7f080856b",
     "grade": false,
     "grade_id": "student-group-answer",
     "locked": false,
     "schema_version": 3,
     "solution": true,
     "task": false
    }
   },
   "outputs": [
    {
     "data": {
      "text/plain": [
       "(      fire_size\n",
       " year           \n",
       " 1992    64000.0\n",
       " 1993    43201.0\n",
       " 1994    48851.0\n",
       " 1995    23455.0\n",
       " 1996   106668.0\n",
       " 1997    49490.0\n",
       " 1998    28164.0\n",
       " 1999   124898.0\n",
       " 2000    75000.0\n",
       " 2001    67792.0\n",
       " 2002   150696.0\n",
       " 2003   280059.0\n",
       " 2004    39138.0\n",
       " 2005    63436.0\n",
       " 2006   162702.0\n",
       " 2007   240207.0\n",
       " 2008   162818.0\n",
       " 2009   160371.0\n",
       " 2010    16442.0\n",
       " 2011    25577.0\n",
       " 2012   315578.8\n",
       " 2013   255858.0\n",
       " 2014   115279.2\n",
       " 2015   151623.0,\n",
       "              fire_size\n",
       " month_num             \n",
       " 1          1099.714286\n",
       " 2          2163.863636\n",
       " 3           705.638889\n",
       " 4          1196.712247\n",
       " 5          1247.652663\n",
       " 6          2274.558100\n",
       " 7          3022.692924\n",
       " 8          3717.205347\n",
       " 9          2816.627351\n",
       " 10         6879.094182\n",
       " 11         1130.758537\n",
       " 12         1941.062500)"
      ]
     },
     "execution_count": 218,
     "metadata": {},
     "output_type": "execute_result"
    }
   ],
   "source": [
    "# max fire size\n",
    "max_fire_size_yearly_df = ca_fire_df.groupby(\n",
    "    [\"year\"])[[\"fire_size\"]].max()\n",
    "\n",
    "# mean fire size\n",
    "mean_fire_size_monthly_df = ca_fire_df.groupby(\n",
    "    [\"month_num\"])[[\"fire_size\"]].mean()\n",
    "\n",
    "# print out dataframes\n",
    "max_fire_size_yearly_df, mean_fire_size_monthly_df"
   ]
  },
  {
   "cell_type": "code",
   "execution_count": 219,
   "metadata": {
    "deletable": false,
    "editable": false,
    "nbgrader": {
     "cell_type": "code",
     "checksum": "4e76c1d08dfd1f4dd5acea1253a92016",
     "grade": true,
     "grade_id": "student-group-test",
     "locked": true,
     "points": 0,
     "schema_version": 3,
     "solution": false,
     "task": false
    }
   },
   "outputs": [
    {
     "name": "stdout",
     "output_type": "stream",
     "text": [
      "✅ First object created is a dataframe, good job!\n",
      "✅ First object created is a yearly summary, good job!\n",
      "✅ Second object created is a dataframe, good job!\n",
      "✅ Second object created is a monthly summary, good job!\n"
     ]
    }
   ],
   "source": [
    "# DO NOT MODIFY THIS CELL\n",
    "\n",
    "# Tests if the results are DataFrames\n",
    "# Makes sure that the yearly and monthly results are the right length\n",
    "\n",
    "student_max_yearly, student_mean_monthly = _\n",
    "\n",
    "if isinstance(student_max_yearly, pd.DataFrame):\n",
    "    print(\"\\u2705 First object created is a dataframe, good job!\")\n",
    "else:\n",
    "    print(\"\\u274C First object created is not a dataframe.\")\n",
    "    \n",
    "\n",
    "if len(student_max_yearly)==24:\n",
    "    print(\"\\u2705 First object created is a yearly summary, good job!\")\n",
    "else:\n",
    "    print(\"\\u274C First object created is not a yearly summary.\") \n",
    "    \n",
    "if isinstance(student_mean_monthly, pd.DataFrame):\n",
    "    print(\"\\u2705 Second object created is a dataframe, good job!\")\n",
    "else:\n",
    "    print(\"\\u274C Second object created is not a dataframe.\")\n",
    "    \n",
    "if len(student_mean_monthly)==12:\n",
    "    print(\"\\u2705 Second object created is a monthly summary, good job!\")\n",
    "else:\n",
    "    print(\"\\u274C Second object created is not a monthly summary.\") "
   ]
  },
  {
   "cell_type": "code",
   "execution_count": 220,
   "metadata": {
    "deletable": false,
    "editable": false,
    "nbgrader": {
     "cell_type": "code",
     "checksum": "b89c64a27b6587e57a218870b379dd36",
     "grade": true,
     "grade_id": "student-group-test-hidden",
     "locked": true,
     "points": 6,
     "schema_version": 3,
     "solution": false,
     "task": false
    }
   },
   "outputs": [],
   "source": [
    "# DO NOT MODIFY THIS CELL"
   ]
  },
  {
   "cell_type": "markdown",
   "metadata": {
    "deletable": false,
    "editable": false,
    "nbgrader": {
     "cell_type": "markdown",
     "checksum": "3d15b840ae4a0d25835c1e099ecab8b1",
     "grade": false,
     "grade_id": "student-addcols-question",
     "locked": true,
     "schema_version": 3,
     "solution": false,
     "task": false
    }
   },
   "source": [
    "## Challenge 4: Add human ignition flag and season fields\n",
    "\n",
    "Add two columns to your dataframe:\n",
    "* A boolean `human_ignition` column that is true if the cause is one of Arson, Smoking, Equipment Use, Campfire, Powerline, Railroad, or Debris Burning\n",
    "* An ordered Categorical `season` column using MAM/JJA/SON/DJF seasons call `pd.Categorical()` on the resulting column. Spring should be the first season\n",
    "\n",
    "BONUS: Try to create the `season` column by writing your own `month_to_season` function and applying it to the month or month_num column AND/OR create a DateTime column and use the dt.season attribute.\n",
    "\n",
    "**Call your modified dataframe at the end of the cell**"
   ]
  },
  {
   "cell_type": "code",
   "execution_count": 301,
   "metadata": {
    "deletable": false,
    "nbgrader": {
     "cell_type": "code",
     "checksum": "01fc0c40c23b5339a1d535dd078045ed",
     "grade": false,
     "grade_id": "student-addcols-answer",
     "locked": false,
     "schema_version": 3,
     "solution": true,
     "task": false
    }
   },
   "outputs": [
    {
     "data": {
      "text/html": [
       "<div>\n",
       "<style scoped>\n",
       "    .dataframe tbody tr th:only-of-type {\n",
       "        vertical-align: middle;\n",
       "    }\n",
       "\n",
       "    .dataframe tbody tr th {\n",
       "        vertical-align: top;\n",
       "    }\n",
       "\n",
       "    .dataframe thead th {\n",
       "        text-align: right;\n",
       "    }\n",
       "</style>\n",
       "<table border=\"1\" class=\"dataframe\">\n",
       "  <thead>\n",
       "    <tr style=\"text-align: right;\">\n",
       "      <th></th>\n",
       "      <th>source_reporting_unit_name</th>\n",
       "      <th>fire_name</th>\n",
       "      <th>month</th>\n",
       "      <th>month_num</th>\n",
       "      <th>cause</th>\n",
       "      <th>fire_size</th>\n",
       "      <th>fire_size_class</th>\n",
       "      <th>state</th>\n",
       "      <th>county</th>\n",
       "      <th>year</th>\n",
       "      <th>human_ignition</th>\n",
       "      <th>season</th>\n",
       "    </tr>\n",
       "    <tr>\n",
       "      <th>fd_unq_id</th>\n",
       "      <th></th>\n",
       "      <th></th>\n",
       "      <th></th>\n",
       "      <th></th>\n",
       "      <th></th>\n",
       "      <th></th>\n",
       "      <th></th>\n",
       "      <th></th>\n",
       "      <th></th>\n",
       "      <th></th>\n",
       "      <th></th>\n",
       "      <th></th>\n",
       "    </tr>\n",
       "  </thead>\n",
       "  <tbody>\n",
       "    <tr>\n",
       "      <th>15000792</th>\n",
       "      <td>CDF - Riverside Unit</td>\n",
       "      <td>RIVER</td>\n",
       "      <td>February</td>\n",
       "      <td>2</td>\n",
       "      <td>Missing/Undefined</td>\n",
       "      <td>122.0</td>\n",
       "      <td>D</td>\n",
       "      <td>CA</td>\n",
       "      <td>Riverside</td>\n",
       "      <td>2004</td>\n",
       "      <td>False</td>\n",
       "      <td>Winter</td>\n",
       "    </tr>\n",
       "    <tr>\n",
       "      <th>15001254</th>\n",
       "      <td>San Bernardino National Forest</td>\n",
       "      <td>UPPER SANTA ANA BURN ESCAPE</td>\n",
       "      <td>March</td>\n",
       "      <td>3</td>\n",
       "      <td>Missing/Undefined</td>\n",
       "      <td>350.0</td>\n",
       "      <td>E</td>\n",
       "      <td>CA</td>\n",
       "      <td>San Bernardino</td>\n",
       "      <td>2004</td>\n",
       "      <td>False</td>\n",
       "      <td>Spring</td>\n",
       "    </tr>\n",
       "    <tr>\n",
       "      <th>317618</th>\n",
       "      <td>Bakersfield District</td>\n",
       "      <td>FORT</td>\n",
       "      <td>April</td>\n",
       "      <td>4</td>\n",
       "      <td>Arson</td>\n",
       "      <td>150.0</td>\n",
       "      <td>D</td>\n",
       "      <td>CA</td>\n",
       "      <td>Inyo</td>\n",
       "      <td>2004</td>\n",
       "      <td>True</td>\n",
       "      <td>Spring</td>\n",
       "    </tr>\n",
       "    <tr>\n",
       "      <th>1311320</th>\n",
       "      <td>CDF - Merced-Mariposa Unit</td>\n",
       "      <td>RIMS FIRE</td>\n",
       "      <td>April</td>\n",
       "      <td>4</td>\n",
       "      <td>Miscellaneous</td>\n",
       "      <td>200.0</td>\n",
       "      <td>D</td>\n",
       "      <td>CA</td>\n",
       "      <td>NaN</td>\n",
       "      <td>2004</td>\n",
       "      <td>False</td>\n",
       "      <td>Spring</td>\n",
       "    </tr>\n",
       "    <tr>\n",
       "      <th>1311367</th>\n",
       "      <td>CDF - Merced-Mariposa Unit</td>\n",
       "      <td>210</td>\n",
       "      <td>April</td>\n",
       "      <td>4</td>\n",
       "      <td>Equipment Use</td>\n",
       "      <td>115.0</td>\n",
       "      <td>D</td>\n",
       "      <td>CA</td>\n",
       "      <td>NaN</td>\n",
       "      <td>2004</td>\n",
       "      <td>True</td>\n",
       "      <td>Spring</td>\n",
       "    </tr>\n",
       "    <tr>\n",
       "      <th>...</th>\n",
       "      <td>...</td>\n",
       "      <td>...</td>\n",
       "      <td>...</td>\n",
       "      <td>...</td>\n",
       "      <td>...</td>\n",
       "      <td>...</td>\n",
       "      <td>...</td>\n",
       "      <td>...</td>\n",
       "      <td>...</td>\n",
       "      <td>...</td>\n",
       "      <td>...</td>\n",
       "      <td>...</td>\n",
       "    </tr>\n",
       "    <tr>\n",
       "      <th>1300492</th>\n",
       "      <td>Dunnigan Fire Protection District</td>\n",
       "      <td>SIX</td>\n",
       "      <td>October</td>\n",
       "      <td>10</td>\n",
       "      <td>Missing/Undefined</td>\n",
       "      <td>1235.0</td>\n",
       "      <td>F</td>\n",
       "      <td>CA</td>\n",
       "      <td>Yolo</td>\n",
       "      <td>2009</td>\n",
       "      <td>False</td>\n",
       "      <td>Fall</td>\n",
       "    </tr>\n",
       "    <tr>\n",
       "      <th>300341742</th>\n",
       "      <td>San Mateo-Santa Cruz Unit</td>\n",
       "      <td>LOMA IC</td>\n",
       "      <td>October</td>\n",
       "      <td>10</td>\n",
       "      <td>Missing/Undefined</td>\n",
       "      <td>490.5</td>\n",
       "      <td>E</td>\n",
       "      <td>CA</td>\n",
       "      <td>NaN</td>\n",
       "      <td>2009</td>\n",
       "      <td>False</td>\n",
       "      <td>Fall</td>\n",
       "    </tr>\n",
       "    <tr>\n",
       "      <th>1332172</th>\n",
       "      <td>Humboldt-Del Norte Unit</td>\n",
       "      <td>IAQUA</td>\n",
       "      <td>October</td>\n",
       "      <td>10</td>\n",
       "      <td>Equipment Use</td>\n",
       "      <td>160.0</td>\n",
       "      <td>D</td>\n",
       "      <td>CA</td>\n",
       "      <td>NaN</td>\n",
       "      <td>2009</td>\n",
       "      <td>True</td>\n",
       "      <td>Fall</td>\n",
       "    </tr>\n",
       "    <tr>\n",
       "      <th>300331819</th>\n",
       "      <td>Humboldt-Del Norte Unit</td>\n",
       "      <td>CCSO</td>\n",
       "      <td>October</td>\n",
       "      <td>10</td>\n",
       "      <td>Missing/Undefined</td>\n",
       "      <td>250.0</td>\n",
       "      <td>D</td>\n",
       "      <td>CA</td>\n",
       "      <td>NaN</td>\n",
       "      <td>2009</td>\n",
       "      <td>False</td>\n",
       "      <td>Fall</td>\n",
       "    </tr>\n",
       "    <tr>\n",
       "      <th>15000493</th>\n",
       "      <td>Orange County Fire Department</td>\n",
       "      <td>ORTEGA</td>\n",
       "      <td>November</td>\n",
       "      <td>11</td>\n",
       "      <td>Missing/Undefined</td>\n",
       "      <td>145.0</td>\n",
       "      <td>D</td>\n",
       "      <td>CA</td>\n",
       "      <td>Orange</td>\n",
       "      <td>2009</td>\n",
       "      <td>False</td>\n",
       "      <td>Fall</td>\n",
       "    </tr>\n",
       "  </tbody>\n",
       "</table>\n",
       "<p>4101 rows × 12 columns</p>\n",
       "</div>"
      ],
      "text/plain": [
       "                  source_reporting_unit_name                    fire_name  \\\n",
       "fd_unq_id                                                                   \n",
       "15000792                CDF - Riverside Unit                        RIVER   \n",
       "15001254      San Bernardino National Forest  UPPER SANTA ANA BURN ESCAPE   \n",
       "317618                  Bakersfield District                         FORT   \n",
       "1311320           CDF - Merced-Mariposa Unit    RIMS FIRE                   \n",
       "1311367           CDF - Merced-Mariposa Unit                          210   \n",
       "...                                      ...                          ...   \n",
       "1300492    Dunnigan Fire Protection District                          SIX   \n",
       "300341742          San Mateo-Santa Cruz Unit                      LOMA IC   \n",
       "1332172              Humboldt-Del Norte Unit    IAQUA                       \n",
       "300331819            Humboldt-Del Norte Unit                         CCSO   \n",
       "15000493       Orange County Fire Department                       ORTEGA   \n",
       "\n",
       "              month  month_num              cause  fire_size fire_size_class  \\\n",
       "fd_unq_id                                                                      \n",
       "15000792   February          2  Missing/Undefined      122.0               D   \n",
       "15001254      March          3  Missing/Undefined      350.0               E   \n",
       "317618        April          4              Arson      150.0               D   \n",
       "1311320       April          4      Miscellaneous      200.0               D   \n",
       "1311367       April          4      Equipment Use      115.0               D   \n",
       "...             ...        ...                ...        ...             ...   \n",
       "1300492     October         10  Missing/Undefined     1235.0               F   \n",
       "300341742   October         10  Missing/Undefined      490.5               E   \n",
       "1332172     October         10      Equipment Use      160.0               D   \n",
       "300331819   October         10  Missing/Undefined      250.0               D   \n",
       "15000493   November         11  Missing/Undefined      145.0               D   \n",
       "\n",
       "          state          county  year  human_ignition  season  \n",
       "fd_unq_id                                                      \n",
       "15000792     CA       Riverside  2004           False  Winter  \n",
       "15001254     CA  San Bernardino  2004           False  Spring  \n",
       "317618       CA            Inyo  2004            True  Spring  \n",
       "1311320      CA             NaN  2004           False  Spring  \n",
       "1311367      CA             NaN  2004            True  Spring  \n",
       "...         ...             ...   ...             ...     ...  \n",
       "1300492      CA            Yolo  2009           False    Fall  \n",
       "300341742    CA             NaN  2009           False    Fall  \n",
       "1332172      CA             NaN  2009            True    Fall  \n",
       "300331819    CA             NaN  2009           False    Fall  \n",
       "15000493     CA          Orange  2009           False    Fall  \n",
       "\n",
       "[4101 rows x 12 columns]"
      ]
     },
     "execution_count": 301,
     "metadata": {},
     "output_type": "execute_result"
    }
   ],
   "source": [
    "\n",
    "human_caused = [\"Arson\", \"Smoking\", \"Equipment Use\", \"Campfire\", \n",
    "                \"Powerline\",\"Railroad\"]\n",
    "\n",
    "\n",
    "# Create a new column human_ignition and create a condition whether human-caused or not\n",
    "ca_fire_df['human_ignition'] = (ca_fire_df['cause'].isin(human_caused))\n",
    "\n",
    "# create season variable\n",
    "season = [\"Spring\", \"Summer\", \"Fall\", \"Winter\"]\n",
    "\n",
    "# create categorical season column by writing month_to_season function\n",
    "def month_to_season(month):\n",
    "    season_conversion = {\n",
    "            'March': 'Spring',\n",
    "            'April': 'Spring',\n",
    "            'May': 'Spring',\n",
    "            'June': 'Summer',\n",
    "            'July': 'Summer',\n",
    "            'August': 'Summer',\n",
    "            'September': 'Fall',\n",
    "            'October': 'Fall',\n",
    "            'November': 'Fall',\n",
    "            'December': 'Winter',\n",
    "            'January': 'Winter',\n",
    "            'February': 'Winter'                \n",
    "    }\n",
    "    return season_conversion.get(month)\n",
    "\n",
    "#apply month_to_season to month \n",
    "#ca_fire_df['month'].apply(month_to_season)\n",
    "\n",
    "\n",
    "ca_fire_df['season'] = pd.Categorical(\n",
    "    ca_fire_df['month'].apply(month_to_season), categories=season,\n",
    "                                     ordered=True)\n",
    "\n",
    "\n",
    "ca_fire_df\n"
   ]
  },
  {
   "cell_type": "code",
   "execution_count": 302,
   "metadata": {
    "deletable": false,
    "editable": false,
    "nbgrader": {
     "cell_type": "code",
     "checksum": "54a163a18fcd7c4a33f4daa0edb8ad93",
     "grade": true,
     "grade_id": "student-addcols-test",
     "locked": true,
     "points": 0,
     "schema_version": 3,
     "solution": false,
     "task": false
    }
   },
   "outputs": [
    {
     "name": "stdout",
     "output_type": "stream",
     "text": [
      "✅ Object is a dataframe, good job!\n",
      "✅ Dataframe has a human_ignition column, good job!\n",
      "✅ Dataframe has a season column, good job!\n"
     ]
    }
   ],
   "source": [
    "# DO NOT MODIFY THIS CELL\n",
    "\n",
    "# Tests if the result is a DataFrame with human_ignition and season columns\n",
    "\n",
    "student_add_columns_df = _\n",
    "\n",
    "if isinstance(student_add_columns_df, pd.DataFrame):\n",
    "    print(\"\\u2705 Object is a dataframe, good job!\")\n",
    "else:\n",
    "    print(\"\\u274C Object is not a dataframe.\")\n",
    "    \n",
    "if 'human_ignition' in student_add_columns_df.columns:\n",
    "    print(\"\\u2705 Dataframe has a human_ignition column, good job!\")\n",
    "else:\n",
    "    print(\"\\u274C Dataframe is missing a human_ignition column.\")\n",
    "    \n",
    "if 'season' in student_add_columns_df.columns:\n",
    "    print(\"\\u2705 Dataframe has a season column, good job!\")\n",
    "else:\n",
    "    print(\"\\u274C Dataframe is missing a season column.\")"
   ]
  },
  {
   "cell_type": "code",
   "execution_count": null,
   "metadata": {
    "deletable": false,
    "editable": false,
    "nbgrader": {
     "cell_type": "code",
     "checksum": "12655307429c3075bdba3a92a09bafec",
     "grade": true,
     "grade_id": "student-addcols-test-hidden",
     "locked": true,
     "points": 10,
     "schema_version": 3,
     "solution": false,
     "task": false
    }
   },
   "outputs": [],
   "source": [
    "# DO NOT MODIFY THIS CELL\n"
   ]
  },
  {
   "cell_type": "markdown",
   "metadata": {
    "deletable": false,
    "editable": false,
    "nbgrader": {
     "cell_type": "markdown",
     "checksum": "e8bae4b731779fbed792d69aed7f6d90",
     "grade": false,
     "grade_id": "student-copy-question",
     "locked": true,
     "schema_version": 3,
     "solution": false,
     "task": false
    }
   },
   "source": [
    "## Challenge 5: Making a copy of a dataframe versus a slice\n",
    "\n",
    "If you want to make changes to the structure of your dataframe and you are only working with a slice, Pandas will give you a warning message. If this is what you truly want to do, you can use the copy command to make a new copy of the subset of rows/columns you are working with. Here we just want to work on a the subset of the fires that are human-caused. Because we created a copy, we can now link in other table data and manipulate it. You can see that this copy is smaller, but it is also a completely new copy of the data. Any changes to human fires will not affect the original dataframe.\n",
    "\n",
    "Try this out by writing code to do the following:\n",
    "* Make a copy of just the rows flagged as human_ignition\n",
    "* Convert fire_name to title case\n",
    "* Call the first 5 rows of the fire_name column for both the original and the copy and note the difference"
   ]
  },
  {
   "cell_type": "code",
   "execution_count": null,
   "metadata": {
    "deletable": false,
    "nbgrader": {
     "cell_type": "code",
     "checksum": "efb5a33a8faa407e2a37f0171f2f190c",
     "grade": true,
     "grade_id": "student-copy-answer",
     "locked": false,
     "points": 5,
     "schema_version": 3,
     "solution": true,
     "task": false
    }
   },
   "outputs": [],
   "source": [
    "# YOUR CODE HERE\n",
    "raise NotImplementedError()"
   ]
  },
  {
   "cell_type": "markdown",
   "metadata": {
    "deletable": false,
    "editable": false,
    "nbgrader": {
     "cell_type": "markdown",
     "checksum": "f201079d278b5cf0be8a7e94d406680d",
     "grade": false,
     "grade_id": "student-loop-question",
     "locked": true,
     "schema_version": 3,
     "solution": false,
     "task": false
    }
   },
   "source": [
    "## Challenge 6: looping through nested directories\n",
    "\n",
    "Loop through nested directories to create a data catalog of the \"ca-fires-yearly\" dataset with the following specifications:\n",
    "* The data catalog should be a DataFrame with the following columns:\n",
    "  * The `dataset` column should contain the name of the directory you are searching, such as \"monthly-mean-size\"\n",
    "  * The `file_name` column should contain strings of the basename only of each file in alphabetical (and chronological) order\n",
    "  * The `year` column should be an integer column of the year extracted from the file name\n",
    "  * The `file_rows` column should contain the number of rows in the corresponding file\n",
    "  * The `file_columns` columns should contain the number of columns in the corresponding file\n",
    "  \n",
    "HINT: There are a couple of ways to create DataFrames from scratch. [Check out the pandas documentation for examples.](https://pandas.pydata.org/docs/reference/api/pandas.DataFrame.html)\n",
    "\n",
    "**Call your data catalog dataframe at the end of the cell"
   ]
  },
  {
   "cell_type": "code",
   "execution_count": 222,
   "metadata": {
    "deletable": false,
    "nbgrader": {
     "cell_type": "code",
     "checksum": "e159c7c400cb62598b8f4ab8530a166a",
     "grade": false,
     "grade_id": "student-loop-answer",
     "locked": false,
     "schema_version": 3,
     "solution": true,
     "task": false
    }
   },
   "outputs": [
    {
     "data": {
      "text/html": [
       "<div>\n",
       "<style scoped>\n",
       "    .dataframe tbody tr th:only-of-type {\n",
       "        vertical-align: middle;\n",
       "    }\n",
       "\n",
       "    .dataframe tbody tr th {\n",
       "        vertical-align: top;\n",
       "    }\n",
       "\n",
       "    .dataframe thead th {\n",
       "        text-align: right;\n",
       "    }\n",
       "</style>\n",
       "<table border=\"1\" class=\"dataframe\">\n",
       "  <thead>\n",
       "    <tr style=\"text-align: right;\">\n",
       "      <th></th>\n",
       "      <th>dataset</th>\n",
       "      <th>file_name</th>\n",
       "      <th>year</th>\n",
       "      <th>file_rows</th>\n",
       "      <th>file_columns</th>\n",
       "    </tr>\n",
       "  </thead>\n",
       "  <tbody>\n",
       "    <tr>\n",
       "      <th>0</th>\n",
       "      <td>monthly-mean-size</td>\n",
       "      <td>monthly-mean-size-1992.csv</td>\n",
       "      <td>1992</td>\n",
       "      <td>1</td>\n",
       "      <td>12</td>\n",
       "    </tr>\n",
       "    <tr>\n",
       "      <th>1</th>\n",
       "      <td>monthly-mean-size</td>\n",
       "      <td>monthly-mean-size-1993.csv</td>\n",
       "      <td>1993</td>\n",
       "      <td>1</td>\n",
       "      <td>12</td>\n",
       "    </tr>\n",
       "    <tr>\n",
       "      <th>2</th>\n",
       "      <td>monthly-mean-size</td>\n",
       "      <td>monthly-mean-size-1994.csv</td>\n",
       "      <td>1994</td>\n",
       "      <td>1</td>\n",
       "      <td>12</td>\n",
       "    </tr>\n",
       "    <tr>\n",
       "      <th>3</th>\n",
       "      <td>monthly-mean-size</td>\n",
       "      <td>monthly-mean-size-1995.csv</td>\n",
       "      <td>1995</td>\n",
       "      <td>1</td>\n",
       "      <td>12</td>\n",
       "    </tr>\n",
       "    <tr>\n",
       "      <th>4</th>\n",
       "      <td>monthly-mean-size</td>\n",
       "      <td>monthly-mean-size-1996.csv</td>\n",
       "      <td>1996</td>\n",
       "      <td>1</td>\n",
       "      <td>12</td>\n",
       "    </tr>\n",
       "    <tr>\n",
       "      <th>...</th>\n",
       "      <td>...</td>\n",
       "      <td>...</td>\n",
       "      <td>...</td>\n",
       "      <td>...</td>\n",
       "      <td>...</td>\n",
       "    </tr>\n",
       "    <tr>\n",
       "      <th>67</th>\n",
       "      <td>1992-2015-gt-100-acres</td>\n",
       "      <td>gt-100-acres-2011.csv</td>\n",
       "      <td>2011</td>\n",
       "      <td>139</td>\n",
       "      <td>10</td>\n",
       "    </tr>\n",
       "    <tr>\n",
       "      <th>68</th>\n",
       "      <td>1992-2015-gt-100-acres</td>\n",
       "      <td>gt-100-acres-2012.csv</td>\n",
       "      <td>2012</td>\n",
       "      <td>127</td>\n",
       "      <td>10</td>\n",
       "    </tr>\n",
       "    <tr>\n",
       "      <th>69</th>\n",
       "      <td>1992-2015-gt-100-acres</td>\n",
       "      <td>gt-100-acres-2013.csv</td>\n",
       "      <td>2013</td>\n",
       "      <td>122</td>\n",
       "      <td>10</td>\n",
       "    </tr>\n",
       "    <tr>\n",
       "      <th>70</th>\n",
       "      <td>1992-2015-gt-100-acres</td>\n",
       "      <td>gt-100-acres-2014.csv</td>\n",
       "      <td>2014</td>\n",
       "      <td>90</td>\n",
       "      <td>10</td>\n",
       "    </tr>\n",
       "    <tr>\n",
       "      <th>71</th>\n",
       "      <td>1992-2015-gt-100-acres</td>\n",
       "      <td>gt-100-acres-2015.csv</td>\n",
       "      <td>2015</td>\n",
       "      <td>132</td>\n",
       "      <td>10</td>\n",
       "    </tr>\n",
       "  </tbody>\n",
       "</table>\n",
       "<p>72 rows × 5 columns</p>\n",
       "</div>"
      ],
      "text/plain": [
       "                   dataset                   file_name  year  file_rows  \\\n",
       "0        monthly-mean-size  monthly-mean-size-1992.csv  1992          1   \n",
       "1        monthly-mean-size  monthly-mean-size-1993.csv  1993          1   \n",
       "2        monthly-mean-size  monthly-mean-size-1994.csv  1994          1   \n",
       "3        monthly-mean-size  monthly-mean-size-1995.csv  1995          1   \n",
       "4        monthly-mean-size  monthly-mean-size-1996.csv  1996          1   \n",
       "..                     ...                         ...   ...        ...   \n",
       "67  1992-2015-gt-100-acres       gt-100-acres-2011.csv  2011        139   \n",
       "68  1992-2015-gt-100-acres       gt-100-acres-2012.csv  2012        127   \n",
       "69  1992-2015-gt-100-acres       gt-100-acres-2013.csv  2013        122   \n",
       "70  1992-2015-gt-100-acres       gt-100-acres-2014.csv  2014         90   \n",
       "71  1992-2015-gt-100-acres       gt-100-acres-2015.csv  2015        132   \n",
       "\n",
       "    file_columns  \n",
       "0             12  \n",
       "1             12  \n",
       "2             12  \n",
       "3             12  \n",
       "4             12  \n",
       "..           ...  \n",
       "67            10  \n",
       "68            10  \n",
       "69            10  \n",
       "70            10  \n",
       "71            10  \n",
       "\n",
       "[72 rows x 5 columns]"
      ]
     },
     "execution_count": 222,
     "metadata": {},
     "output_type": "execute_result"
    }
   ],
   "source": [
    "def create_dataset_catalog(ds_path):\n",
    "   \n",
    "    # get a list of directories\n",
    "    dataset_dirs = glob(os.path.join(ds_path, '*'))\n",
    "    # initialize variables \n",
    "    name = []\n",
    "    file_name = []\n",
    "    year = []\n",
    "    file_rows = []\n",
    "    file_columns = []\n",
    "\n",
    "    #loop through dataset directories\n",
    "    for dataset in dataset_dirs: \n",
    "        #Get files \n",
    "        dataset_files = glob(os.path.join(dataset, '*.csv'))\n",
    "        #Loop through files in alphaetical and chronological order\n",
    "        for file in sorted(dataset_files):\n",
    "            df = pd.read_csv(file)\n",
    "            # the name of the directory you are searching\n",
    "            name.append(os.path.basename(dataset))\n",
    "            # file_name column should contain strings of the basename of each file\n",
    "            file_name.append(os.path.basename(file))\n",
    "            # the year column should be an integer column extracted from the file name\n",
    "            year.append(file[-8:-4])\n",
    "            # the file_rows column - the number of rows\n",
    "            file_rows.append(df.shape[0])\n",
    "            # the file_columns - number of rows\n",
    "            file_columns.append(df.shape[1])\n",
    "\n",
    "    # construct dataframe\n",
    "    catalog_df = pd.DataFrame({\n",
    "        'dataset': name,\n",
    "        'file_name': file_name,\n",
    "        'year': year,\n",
    "        'file_rows': file_rows,\n",
    "        'file_columns': file_columns\n",
    "    })\n",
    "\n",
    "    return catalog_df\n",
    "\n",
    "# path of \"ca-fires-yearly\" dataset\n",
    "ca_fires_path = os.path.join(\n",
    "    'earthpy-downloads',\n",
    "    'ca-fires-yearly')\n",
    "\n",
    "ca_fires_catalog_df = create_dataset_catalog(ca_fires_path)\n",
    "\n",
    "# call your data catalog dataframe at the end of the cell\n",
    "ca_fires_catalog_df"
   ]
  },
  {
   "cell_type": "code",
   "execution_count": 223,
   "metadata": {
    "deletable": false,
    "editable": false,
    "nbgrader": {
     "cell_type": "code",
     "checksum": "a685ecdb729cfb9bcaad896f2375f52d",
     "grade": true,
     "grade_id": "student-loop-test",
     "locked": true,
     "points": 0,
     "schema_version": 3,
     "solution": false,
     "task": false
    }
   },
   "outputs": [
    {
     "name": "stdout",
     "output_type": "stream",
     "text": [
      "✅ Object is a dataframe, good job!\n",
      "✅ Dataframe has all the right columns, good job!\n"
     ]
    }
   ],
   "source": [
    "# DO NOT MODIFY THIS CELL\n",
    "\n",
    "# Tests if the result is a DataFrame with the correct columns\n",
    "\n",
    "student_catalog_df = _\n",
    "\n",
    "if isinstance(student_catalog_df, pd.DataFrame):\n",
    "    print(\"\\u2705 Object is a dataframe, good job!\")\n",
    "else:\n",
    "    print(\"\\u274C Object is not a dataframe.\")\n",
    "    \n",
    "if all([col in student_catalog_df.columns.values\n",
    "        for col \n",
    "        in ['dataset', 'file_name', 'year', 'file_rows', 'file_columns']]):\n",
    "    print(\"\\u2705 Dataframe has all the right columns, good job!\")\n",
    "else:\n",
    "    print(\"\\u274C Dataframe is missing required columns.\")"
   ]
  },
  {
   "cell_type": "code",
   "execution_count": null,
   "metadata": {
    "deletable": false,
    "editable": false,
    "nbgrader": {
     "cell_type": "code",
     "checksum": "f282ab9b019f1e65fb01b7b8201512c5",
     "grade": true,
     "grade_id": "student-loop-test-hidden",
     "locked": true,
     "points": 20,
     "schema_version": 3,
     "solution": false,
     "task": false
    }
   },
   "outputs": [],
   "source": [
    "# DO NOT MODIFY THIS CELL"
   ]
  },
  {
   "cell_type": "markdown",
   "metadata": {
    "deletable": false,
    "editable": false,
    "nbgrader": {
     "cell_type": "markdown",
     "checksum": "7ab11ac67672f940575e33c48601b3c3",
     "grade": false,
     "grade_id": "student-function-question",
     "locked": true,
     "schema_version": 3,
     "solution": false,
     "task": false
    }
   },
   "source": [
    "## Challenge 7: Convert challenge 5 into a function\n",
    "\n",
    "**Make sure to include a numpy-style docstring**"
   ]
  },
  {
   "cell_type": "code",
   "execution_count": null,
   "metadata": {
    "deletable": false,
    "nbgrader": {
     "cell_type": "code",
     "checksum": "8bf3da89c0b7ec8a93395d8dd216a0fa",
     "grade": true,
     "grade_id": "student-function-answer",
     "locked": false,
     "points": 5,
     "schema_version": 3,
     "solution": true,
     "task": false
    }
   },
   "outputs": [],
   "source": [
    "# YOUR CODE HERE\n",
    "raise NotImplementedError()"
   ]
  },
  {
   "cell_type": "markdown",
   "metadata": {
    "deletable": false,
    "editable": false,
    "nbgrader": {
     "cell_type": "markdown",
     "checksum": "cd80e3a7a1c6db74f7526db67b3e494f",
     "grade": false,
     "grade_id": "student-call-question",
     "locked": true,
     "schema_version": 3,
     "solution": false,
     "task": false
    }
   },
   "source": [
    "## Challenge 8: Call create_dataset_catalog\n",
    "\n",
    "Call the function you just created"
   ]
  },
  {
   "cell_type": "code",
   "execution_count": null,
   "metadata": {
    "deletable": false,
    "nbgrader": {
     "cell_type": "code",
     "checksum": "6455fc3153870b5f34431514a21b9472",
     "grade": false,
     "grade_id": "student-call-answer",
     "locked": false,
     "schema_version": 3,
     "solution": true,
     "task": false
    }
   },
   "outputs": [],
   "source": [
    "# YOUR CODE HERE\n",
    "raise NotImplementedError()"
   ]
  },
  {
   "cell_type": "code",
   "execution_count": null,
   "metadata": {
    "deletable": false,
    "editable": false,
    "nbgrader": {
     "cell_type": "code",
     "checksum": "614bf9f07ac95da297bb3563da806b58",
     "grade": true,
     "grade_id": "student-call-test-hidden",
     "locked": true,
     "points": 10,
     "schema_version": 3,
     "solution": false,
     "task": false
    }
   },
   "outputs": [],
   "source": []
  },
  {
   "cell_type": "markdown",
   "metadata": {
    "deletable": false,
    "editable": false,
    "nbgrader": {
     "cell_type": "markdown",
     "checksum": "535a1d2e3b7d5c6d5d0f4c8d7d7b5c1b",
     "grade": false,
     "grade_id": "student-help-question",
     "locked": true,
     "schema_version": 3,
     "solution": false,
     "task": false
    }
   },
   "source": [
    "## Challenge 9: Call help for catalog function\n",
    "\n",
    "Call help for the function we just created"
   ]
  },
  {
   "cell_type": "code",
   "execution_count": null,
   "metadata": {
    "deletable": false,
    "nbgrader": {
     "cell_type": "code",
     "checksum": "17105d7e8df10c923de6fa84042a9033",
     "grade": true,
     "grade_id": "student-help-answer",
     "locked": false,
     "points": 5,
     "schema_version": 3,
     "solution": true,
     "task": false
    }
   },
   "outputs": [],
   "source": [
    "# YOUR CODE HERE\n",
    "raise NotImplementedError()"
   ]
  },
  {
   "cell_type": "markdown",
   "metadata": {
    "deletable": false,
    "editable": false,
    "nbgrader": {
     "cell_type": "markdown",
     "checksum": "ee963c1ed51c14bad555fc9f221027ea",
     "grade": false,
     "grade_id": "student-loop-plot-question",
     "locked": true,
     "schema_version": 3,
     "solution": false,
     "task": false
    }
   },
   "source": [
    "## Challenge 10: plot fires by cause (homework 8 challenge 10 revisited\n",
    "\n",
    "Create a plot using a for loop and conditional statment to the following specifications:\n",
    "* Filter data to size class 'G' and 2010 or later\n",
    "* Scatter plot of fire size (y-axis) vs. season (x-axis) labeled by cause\n",
    "* Colored human causes 'red' and non-human causes 'blue'\n",
    "* Adjust the size and layout so that labels do not overlap"
   ]
  },
  {
   "cell_type": "code",
   "execution_count": null,
   "metadata": {
    "deletable": false,
    "nbgrader": {
     "cell_type": "code",
     "checksum": "e1d78140e5d4b59d74d5c6e5cb6857b0",
     "grade": true,
     "grade_id": "studnet-loop-plot-answer",
     "locked": false,
     "points": 15,
     "schema_version": 3,
     "solution": true,
     "task": false
    }
   },
   "outputs": [],
   "source": [
    "# YOUR CODE HERE\n",
    "raise NotImplementedError()"
   ]
  },
  {
   "cell_type": "markdown",
   "metadata": {
    "deletable": false,
    "editable": false,
    "nbgrader": {
     "cell_type": "markdown",
     "checksum": "927e725133106a2bdeac6d48536ae175",
     "grade": false,
     "grade_id": "student-seaborn-question",
     "locked": true,
     "schema_version": 3,
     "solution": false,
     "task": false
    }
   },
   "source": [
    "## Challenge 11: Try plotting using the seaborn stripplot instead\n",
    "This will let you see overlapping data. Set the hue to human_ignition and dodge to True. You won't need a for loop for this plot.\n",
    "\n",
    "[Check out the documentation for some differences from matplotlib, including the data parameter](http://seaborn.pydata.org/generated/seaborn.stripplot.html#seaborn.stripplot)"
   ]
  },
  {
   "cell_type": "code",
   "execution_count": null,
   "metadata": {
    "deletable": false,
    "nbgrader": {
     "cell_type": "code",
     "checksum": "f8c4ee59f2fa0230fbdc9d3896a833a3",
     "grade": true,
     "grade_id": "studnet-seaborn-answer",
     "locked": false,
     "points": 10,
     "schema_version": 3,
     "solution": true,
     "task": false
    }
   },
   "outputs": [],
   "source": [
    "# YOUR CODE HERE\n",
    "raise NotImplementedError()"
   ]
  }
 ],
 "metadata": {
  "kernelspec": {
   "display_name": "Python 3 (ipykernel)",
   "language": "python",
   "name": "python3"
  },
  "language_info": {
   "codemirror_mode": {
    "name": "ipython",
    "version": 3
   },
   "file_extension": ".py",
   "mimetype": "text/x-python",
   "name": "python",
   "nbconvert_exporter": "python",
   "pygments_lexer": "ipython3",
   "version": "3.8.12"
  }
 },
 "nbformat": 4,
 "nbformat_minor": 4
}
